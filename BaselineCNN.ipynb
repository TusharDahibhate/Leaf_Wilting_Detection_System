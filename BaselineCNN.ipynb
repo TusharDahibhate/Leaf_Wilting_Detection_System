{
  "nbformat": 4,
  "nbformat_minor": 0,
  "metadata": {
    "colab": {
      "name": "Ultimate_model_MK2.ipynb",
      "provenance": [],
      "collapsed_sections": []
    },
    "kernelspec": {
      "name": "python3",
      "display_name": "Python 3"
    },
    "accelerator": "GPU"
  },
  "cells": [
    {
      "cell_type": "markdown",
      "metadata": {
        "id": "HwmBbnGcgwRa",
        "colab_type": "text"
      },
      "source": [
        "# Project C - Prediction of Soyabean wilting levels\n",
        "\n",
        "Team :\n",
        "\n",
        "- Tushar Dahibhate\n",
        "- Sharvari Natu\n",
        "- Mohnish Ramani"
      ]
    },
    {
      "cell_type": "code",
      "metadata": {
        "id": "WQICvKDJPIaK",
        "colab_type": "code",
        "outputId": "ad71734d-1125-411b-ec88-c0d33a70edcf",
        "colab": {
          "base_uri": "https://localhost:8080/",
          "height": 34
        }
      },
      "source": [
        "from google.colab import drive \n",
        "drive.mount('/content/drive')"
      ],
      "execution_count": 0,
      "outputs": [
        {
          "output_type": "stream",
          "text": [
            "Drive already mounted at /content/drive; to attempt to forcibly remount, call drive.mount(\"/content/drive\", force_remount=True).\n"
          ],
          "name": "stdout"
        }
      ]
    },
    {
      "cell_type": "markdown",
      "metadata": {
        "id": "RHQlOg_JeZeM",
        "colab_type": "text"
      },
      "source": [
        "## Importing all the essential libraries"
      ]
    },
    {
      "cell_type": "code",
      "metadata": {
        "id": "KWA4oX5NPJBL",
        "colab_type": "code",
        "colab": {}
      },
      "source": [
        "from keras import backend as K \n",
        "from keras.preprocessing.image import ImageDataGenerator \n",
        "from keras.models import Sequential \n",
        "from keras.layers import Conv2D, MaxPooling2D \n",
        "from keras.layers import Activation, Dropout, Flatten, Dense \n",
        "from keras import optimizers"
      ],
      "execution_count": 0,
      "outputs": []
    },
    {
      "cell_type": "markdown",
      "metadata": {
        "id": "82c2wR_EenB8",
        "colab_type": "text"
      },
      "source": [
        "## Setting up the paths and the directories"
      ]
    },
    {
      "cell_type": "code",
      "metadata": {
        "id": "NOkSrMiiPPyi",
        "colab_type": "code",
        "outputId": "bd64050c-6997-4c77-d7c3-d8b85f4f6a07",
        "colab": {
          "base_uri": "https://localhost:8080/",
          "height": 50
        }
      },
      "source": [
        "import os\n",
        "\n",
        "train_data_dir = \"/content/drive/My Drive/NN-ProjectC/Project_C1/Final/train_val_test_no_aug/train\"\n",
        "val_data_dir = \"/content/drive/My Drive/NN-ProjectC/Project_C1/Final/train_val_test_no_aug/val\"\n",
        "\n",
        "num_train = 0\n",
        "num_val = 0\n",
        "num_test = 0\n",
        "\n",
        "for i in os.listdir(train_data_dir):\n",
        "  num_train += len(os.listdir(os.path.join(train_data_dir, i)))\n",
        "  \n",
        "for i in os.listdir(val_data_dir):\n",
        "  num_val += len(os.listdir(os.path.join(val_data_dir, i)))\n",
        "\n",
        "img_width, img_height = 224, 224\n",
        "\n",
        "# Check if the images are RGB and change the channels likewise\n",
        "if K.image_data_format() == 'channels_first':\n",
        "  input_shape= (3, img_width, img_height)\n",
        "else:\n",
        "  input_shape = (img_width, img_height, 3)\n",
        "\n",
        "print (\"Number of training samples: \", num_train)\n",
        "print (\"Number of validation samples: \", num_val)"
      ],
      "execution_count": 0,
      "outputs": [
        {
          "output_type": "stream",
          "text": [
            "Number of training samples:  714\n",
            "Number of validation samples:  171\n"
          ],
          "name": "stdout"
        }
      ]
    },
    {
      "cell_type": "markdown",
      "metadata": {
        "id": "4teUb9Y6erx1",
        "colab_type": "text"
      },
      "source": [
        "## Defining the model"
      ]
    },
    {
      "cell_type": "code",
      "metadata": {
        "id": "KxeohxxzQNK0",
        "colab_type": "code",
        "colab": {}
      },
      "source": [
        "def get_model(learning_rate = 0.0001):\n",
        "  \n",
        "  model = Sequential()\n",
        "  model.add(Conv2D(32,(3,3), input_shape = input_shape))\n",
        "  model.add(Activation('relu'))\n",
        "  model.add(MaxPooling2D(pool_size = (2,2)))\n",
        "\n",
        "  model.add(Conv2D(32,(3,3)))\n",
        "  model.add(Activation('relu'))\n",
        "  model.add(MaxPooling2D(pool_size = (2,2)))\n",
        "\n",
        "  model.add(Conv2D(64,(2,2)))\n",
        "  model.add(Activation('relu'))\n",
        "  model.add(MaxPooling2D(pool_size = (2,2)))\n",
        "\n",
        "  model.add(Flatten())\n",
        "\n",
        "  model.add(Dense(64))\n",
        "  model.add(Activation('relu'))\n",
        "  model.add(Dropout(0.5))\n",
        "  model.add(Dense(5))\n",
        "  model.add(Activation('softmax'))\n",
        "\n",
        "  optimizer = optimizers.adam(learning_rate)\n",
        "                                              \n",
        "  model.compile(loss = \"categorical_crossentropy\", optimizer = optimizer, metrics = ['accuracy'])\n",
        "  \n",
        "  return model"
      ],
      "execution_count": 0,
      "outputs": []
    },
    {
      "cell_type": "markdown",
      "metadata": {
        "id": "GNz7RcJ1e4_u",
        "colab_type": "text"
      },
      "source": [
        "## Training the model"
      ]
    },
    {
      "cell_type": "code",
      "metadata": {
        "id": "Um9q3NC3QSVp",
        "colab_type": "code",
        "outputId": "b719fa82-3a56-4bc2-8840-cf0d1ac27a0c",
        "colab": {
          "base_uri": "https://localhost:8080/",
          "height": 1000
        }
      },
      "source": [
        "batch_sizes = [8]\n",
        "\n",
        "learning_rates = [0.0001]\n",
        "\n",
        "histories = []\n",
        "\n",
        "epochs = 100\n",
        "\n",
        "i = 0\n",
        "\n",
        "for batch_size in batch_sizes:\n",
        "  \n",
        "  for learning_rate in learning_rates:\n",
        "    \n",
        "    print(\"Batch Size : {} Learning rate: {}\".format(batch_size, learning_rate))\n",
        "    \n",
        "    train_datagen = ImageDataGenerator(rescale = 1./255)\n",
        "\n",
        "    train_generator = train_datagen.flow_from_directory(train_data_dir, target_size =(img_width, img_height), batch_size = batch_size, class_mode = 'categorical')\n",
        "\n",
        "    validation_generator = train_datagen.flow_from_directory( val_data_dir, target_size =(img_width, img_height), batch_size = batch_size, class_mode ='categorical') \n",
        "\n",
        "    model = get_model(learning_rate)\n",
        "\n",
        "    history = model.fit_generator(train_generator, steps_per_epoch = num_train // batch_size, epochs = epochs, validation_data = validation_generator, validation_steps = num_val// batch_size)\n",
        "\n",
        "    model.save_weights(\"model_new\"+ str(i+1) +\".h5\")\n",
        "    \n",
        "    histories.append(model.history.history)\n",
        "    \n",
        "    i = i + 1"
      ],
      "execution_count": 0,
      "outputs": [
        {
          "output_type": "stream",
          "text": [
            "Batch Size : 8 Learning rate: 0.0001\n",
            "Found 714 images belonging to 5 classes.\n",
            "Found 171 images belonging to 5 classes.\n",
            "WARNING:tensorflow:From /usr/local/lib/python3.6/dist-packages/keras/backend/tensorflow_backend.py:66: The name tf.get_default_graph is deprecated. Please use tf.compat.v1.get_default_graph instead.\n",
            "\n",
            "WARNING:tensorflow:From /usr/local/lib/python3.6/dist-packages/keras/backend/tensorflow_backend.py:541: The name tf.placeholder is deprecated. Please use tf.compat.v1.placeholder instead.\n",
            "\n",
            "WARNING:tensorflow:From /usr/local/lib/python3.6/dist-packages/keras/backend/tensorflow_backend.py:4432: The name tf.random_uniform is deprecated. Please use tf.random.uniform instead.\n",
            "\n",
            "WARNING:tensorflow:From /usr/local/lib/python3.6/dist-packages/keras/backend/tensorflow_backend.py:4267: The name tf.nn.max_pool is deprecated. Please use tf.nn.max_pool2d instead.\n",
            "\n",
            "WARNING:tensorflow:From /usr/local/lib/python3.6/dist-packages/keras/backend/tensorflow_backend.py:148: The name tf.placeholder_with_default is deprecated. Please use tf.compat.v1.placeholder_with_default instead.\n",
            "\n",
            "WARNING:tensorflow:From /usr/local/lib/python3.6/dist-packages/keras/backend/tensorflow_backend.py:3733: calling dropout (from tensorflow.python.ops.nn_ops) with keep_prob is deprecated and will be removed in a future version.\n",
            "Instructions for updating:\n",
            "Please use `rate` instead of `keep_prob`. Rate should be set to `rate = 1 - keep_prob`.\n",
            "WARNING:tensorflow:From /usr/local/lib/python3.6/dist-packages/keras/optimizers.py:793: The name tf.train.Optimizer is deprecated. Please use tf.compat.v1.train.Optimizer instead.\n",
            "\n",
            "WARNING:tensorflow:From /usr/local/lib/python3.6/dist-packages/keras/backend/tensorflow_backend.py:3576: The name tf.log is deprecated. Please use tf.math.log instead.\n",
            "\n",
            "WARNING:tensorflow:From /usr/local/lib/python3.6/dist-packages/tensorflow_core/python/ops/math_grad.py:1424: where (from tensorflow.python.ops.array_ops) is deprecated and will be removed in a future version.\n",
            "Instructions for updating:\n",
            "Use tf.where in 2.0, which has the same broadcast rule as np.where\n",
            "WARNING:tensorflow:From /usr/local/lib/python3.6/dist-packages/keras/backend/tensorflow_backend.py:1033: The name tf.assign_add is deprecated. Please use tf.compat.v1.assign_add instead.\n",
            "\n",
            "WARNING:tensorflow:From /usr/local/lib/python3.6/dist-packages/keras/backend/tensorflow_backend.py:1020: The name tf.assign is deprecated. Please use tf.compat.v1.assign instead.\n",
            "\n",
            "WARNING:tensorflow:From /usr/local/lib/python3.6/dist-packages/keras/backend/tensorflow_backend.py:3005: The name tf.Session is deprecated. Please use tf.compat.v1.Session instead.\n",
            "\n",
            "Epoch 1/100\n",
            "WARNING:tensorflow:From /usr/local/lib/python3.6/dist-packages/keras/backend/tensorflow_backend.py:190: The name tf.get_default_session is deprecated. Please use tf.compat.v1.get_default_session instead.\n",
            "\n",
            "WARNING:tensorflow:From /usr/local/lib/python3.6/dist-packages/keras/backend/tensorflow_backend.py:197: The name tf.ConfigProto is deprecated. Please use tf.compat.v1.ConfigProto instead.\n",
            "\n",
            "WARNING:tensorflow:From /usr/local/lib/python3.6/dist-packages/keras/backend/tensorflow_backend.py:207: The name tf.global_variables is deprecated. Please use tf.compat.v1.global_variables instead.\n",
            "\n",
            "WARNING:tensorflow:From /usr/local/lib/python3.6/dist-packages/keras/backend/tensorflow_backend.py:216: The name tf.is_variable_initialized is deprecated. Please use tf.compat.v1.is_variable_initialized instead.\n",
            "\n",
            "WARNING:tensorflow:From /usr/local/lib/python3.6/dist-packages/keras/backend/tensorflow_backend.py:223: The name tf.variables_initializer is deprecated. Please use tf.compat.v1.variables_initializer instead.\n",
            "\n",
            "89/89 [==============================] - 229s 3s/step - loss: 1.4533 - acc: 0.4508 - val_loss: 1.3030 - val_acc: 0.5179\n",
            "Epoch 2/100\n",
            "89/89 [==============================] - 12s 136ms/step - loss: 1.3322 - acc: 0.5056 - val_loss: 1.2209 - val_acc: 0.5153\n",
            "Epoch 3/100\n",
            "89/89 [==============================] - 12s 135ms/step - loss: 1.2662 - acc: 0.5154 - val_loss: 1.2307 - val_acc: 0.5031\n",
            "Epoch 4/100\n",
            "89/89 [==============================] - 12s 133ms/step - loss: 1.2321 - acc: 0.5323 - val_loss: 1.1746 - val_acc: 0.6196\n",
            "Epoch 5/100\n",
            "89/89 [==============================] - 12s 133ms/step - loss: 1.1761 - acc: 0.5323 - val_loss: 1.0503 - val_acc: 0.5521\n",
            "Epoch 6/100\n",
            "89/89 [==============================] - 12s 133ms/step - loss: 1.0826 - acc: 0.5520 - val_loss: 1.0240 - val_acc: 0.6012\n",
            "Epoch 7/100\n",
            "89/89 [==============================] - 12s 132ms/step - loss: 1.0440 - acc: 0.5730 - val_loss: 0.9059 - val_acc: 0.7301\n",
            "Epoch 8/100\n",
            "89/89 [==============================] - 12s 133ms/step - loss: 0.9537 - acc: 0.6096 - val_loss: 0.8681 - val_acc: 0.6380\n",
            "Epoch 9/100\n",
            "89/89 [==============================] - 12s 130ms/step - loss: 0.8837 - acc: 0.6264 - val_loss: 0.8413 - val_acc: 0.6503\n",
            "Epoch 10/100\n",
            "89/89 [==============================] - 11s 128ms/step - loss: 0.8821 - acc: 0.6110 - val_loss: 0.8247 - val_acc: 0.6933\n",
            "Epoch 11/100\n",
            "89/89 [==============================] - 11s 128ms/step - loss: 0.8279 - acc: 0.6363 - val_loss: 0.7873 - val_acc: 0.6810\n",
            "Epoch 12/100\n",
            "89/89 [==============================] - 11s 127ms/step - loss: 0.7900 - acc: 0.6573 - val_loss: 0.7778 - val_acc: 0.6442\n",
            "Epoch 13/100\n",
            "89/89 [==============================] - 11s 123ms/step - loss: 0.7718 - acc: 0.6503 - val_loss: 0.7896 - val_acc: 0.6933\n",
            "Epoch 14/100\n",
            "89/89 [==============================] - 11s 125ms/step - loss: 0.7102 - acc: 0.6854 - val_loss: 0.6704 - val_acc: 0.7607\n",
            "Epoch 15/100\n",
            "89/89 [==============================] - 11s 128ms/step - loss: 0.6671 - acc: 0.7247 - val_loss: 0.6594 - val_acc: 0.7485\n",
            "Epoch 16/100\n",
            "89/89 [==============================] - 11s 127ms/step - loss: 0.6535 - acc: 0.7275 - val_loss: 0.6880 - val_acc: 0.7669\n",
            "Epoch 17/100\n",
            "89/89 [==============================] - 11s 125ms/step - loss: 0.6512 - acc: 0.7275 - val_loss: 0.6285 - val_acc: 0.7914\n",
            "Epoch 18/100\n",
            "89/89 [==============================] - 11s 125ms/step - loss: 0.6049 - acc: 0.7346 - val_loss: 0.6995 - val_acc: 0.7055\n",
            "Epoch 19/100\n",
            "89/89 [==============================] - 11s 126ms/step - loss: 0.6176 - acc: 0.7303 - val_loss: 0.5017 - val_acc: 0.8650\n",
            "Epoch 20/100\n",
            "89/89 [==============================] - 11s 126ms/step - loss: 0.5804 - acc: 0.7303 - val_loss: 0.6462 - val_acc: 0.7853\n",
            "Epoch 21/100\n",
            "89/89 [==============================] - 11s 126ms/step - loss: 0.5385 - acc: 0.7584 - val_loss: 0.6627 - val_acc: 0.7730\n",
            "Epoch 22/100\n",
            "89/89 [==============================] - 11s 124ms/step - loss: 0.5090 - acc: 0.7795 - val_loss: 0.5977 - val_acc: 0.7853\n",
            "Epoch 23/100\n",
            "89/89 [==============================] - 11s 127ms/step - loss: 0.4966 - acc: 0.7795 - val_loss: 0.5489 - val_acc: 0.8036\n",
            "Epoch 24/100\n",
            "89/89 [==============================] - 12s 133ms/step - loss: 0.4744 - acc: 0.8048 - val_loss: 0.5399 - val_acc: 0.8160\n",
            "Epoch 25/100\n",
            "89/89 [==============================] - 12s 132ms/step - loss: 0.5255 - acc: 0.7683 - val_loss: 0.6495 - val_acc: 0.7914\n",
            "Epoch 26/100\n",
            "89/89 [==============================] - 11s 128ms/step - loss: 0.4846 - acc: 0.7738 - val_loss: 0.5584 - val_acc: 0.8037\n",
            "Epoch 27/100\n",
            "89/89 [==============================] - 11s 127ms/step - loss: 0.4806 - acc: 0.7696 - val_loss: 0.5558 - val_acc: 0.8282\n",
            "Epoch 28/100\n",
            "89/89 [==============================] - 11s 126ms/step - loss: 0.4612 - acc: 0.7935 - val_loss: 0.5265 - val_acc: 0.8405\n",
            "Epoch 29/100\n",
            "89/89 [==============================] - 11s 126ms/step - loss: 0.4231 - acc: 0.8104 - val_loss: 0.5445 - val_acc: 0.7975\n",
            "Epoch 30/100\n",
            "89/89 [==============================] - 11s 126ms/step - loss: 0.4520 - acc: 0.7838 - val_loss: 0.5375 - val_acc: 0.8344\n",
            "Epoch 31/100\n",
            "89/89 [==============================] - 11s 129ms/step - loss: 0.4475 - acc: 0.7711 - val_loss: 0.5228 - val_acc: 0.8282\n",
            "Epoch 32/100\n",
            "89/89 [==============================] - 11s 126ms/step - loss: 0.4241 - acc: 0.7992 - val_loss: 0.6202 - val_acc: 0.8098\n",
            "Epoch 33/100\n",
            "89/89 [==============================] - 11s 124ms/step - loss: 0.4039 - acc: 0.8132 - val_loss: 0.5950 - val_acc: 0.8160\n",
            "Epoch 34/100\n",
            "89/89 [==============================] - 11s 126ms/step - loss: 0.4413 - acc: 0.7823 - val_loss: 0.5502 - val_acc: 0.8037\n",
            "Epoch 35/100\n",
            "89/89 [==============================] - 11s 126ms/step - loss: 0.4220 - acc: 0.7977 - val_loss: 0.5371 - val_acc: 0.8037\n",
            "Epoch 36/100\n",
            "89/89 [==============================] - 11s 125ms/step - loss: 0.4024 - acc: 0.7963 - val_loss: 0.6147 - val_acc: 0.8037\n",
            "Epoch 37/100\n",
            "89/89 [==============================] - 11s 123ms/step - loss: 0.3869 - acc: 0.8272 - val_loss: 0.5534 - val_acc: 0.8221\n",
            "Epoch 38/100\n",
            "89/89 [==============================] - 11s 125ms/step - loss: 0.3964 - acc: 0.7992 - val_loss: 0.6039 - val_acc: 0.8037\n",
            "Epoch 39/100\n",
            "89/89 [==============================] - 11s 126ms/step - loss: 0.3910 - acc: 0.8090 - val_loss: 0.7227 - val_acc: 0.7853\n",
            "Epoch 40/100\n",
            "89/89 [==============================] - 11s 124ms/step - loss: 0.4127 - acc: 0.8118 - val_loss: 0.8110 - val_acc: 0.7975\n",
            "Epoch 41/100\n",
            "89/89 [==============================] - 12s 135ms/step - loss: 0.4366 - acc: 0.7781 - val_loss: 0.6165 - val_acc: 0.7791\n",
            "Epoch 42/100\n",
            "89/89 [==============================] - 11s 127ms/step - loss: 0.3842 - acc: 0.8315 - val_loss: 0.5614 - val_acc: 0.8344\n",
            "Epoch 43/100\n",
            "89/89 [==============================] - 12s 132ms/step - loss: 0.3543 - acc: 0.8329 - val_loss: 0.6998 - val_acc: 0.8221\n",
            "Epoch 44/100\n",
            "89/89 [==============================] - 11s 126ms/step - loss: 0.3533 - acc: 0.8356 - val_loss: 0.7642 - val_acc: 0.8098\n",
            "Epoch 45/100\n",
            "89/89 [==============================] - 12s 130ms/step - loss: 0.3601 - acc: 0.8328 - val_loss: 0.6827 - val_acc: 0.8214\n",
            "Epoch 46/100\n",
            "89/89 [==============================] - 12s 131ms/step - loss: 0.3433 - acc: 0.8329 - val_loss: 0.7346 - val_acc: 0.7791\n",
            "Epoch 47/100\n",
            "89/89 [==============================] - 12s 130ms/step - loss: 0.3240 - acc: 0.8652 - val_loss: 0.5886 - val_acc: 0.8405\n",
            "Epoch 48/100\n",
            "89/89 [==============================] - 11s 129ms/step - loss: 0.3455 - acc: 0.8245 - val_loss: 0.6105 - val_acc: 0.8221\n",
            "Epoch 49/100\n",
            "89/89 [==============================] - 11s 128ms/step - loss: 0.3412 - acc: 0.8371 - val_loss: 0.7608 - val_acc: 0.7669\n",
            "Epoch 50/100\n",
            "89/89 [==============================] - 11s 127ms/step - loss: 0.3772 - acc: 0.8133 - val_loss: 0.5409 - val_acc: 0.8282\n",
            "Epoch 51/100\n",
            "89/89 [==============================] - 11s 128ms/step - loss: 0.4018 - acc: 0.8104 - val_loss: 0.5355 - val_acc: 0.8589\n",
            "Epoch 52/100\n",
            "89/89 [==============================] - 11s 128ms/step - loss: 0.3521 - acc: 0.8230 - val_loss: 0.7328 - val_acc: 0.7914\n",
            "Epoch 53/100\n",
            "89/89 [==============================] - 11s 123ms/step - loss: 0.3547 - acc: 0.8300 - val_loss: 0.6169 - val_acc: 0.8221\n",
            "Epoch 54/100\n",
            "89/89 [==============================] - 11s 127ms/step - loss: 0.3449 - acc: 0.8329 - val_loss: 1.0792 - val_acc: 0.7975\n",
            "Epoch 55/100\n",
            "89/89 [==============================] - 11s 125ms/step - loss: 0.3341 - acc: 0.8357 - val_loss: 0.5595 - val_acc: 0.8405\n",
            "Epoch 56/100\n",
            "89/89 [==============================] - 11s 126ms/step - loss: 0.3839 - acc: 0.8090 - val_loss: 0.6187 - val_acc: 0.8282\n",
            "Epoch 57/100\n",
            "89/89 [==============================] - 11s 126ms/step - loss: 0.3793 - acc: 0.8216 - val_loss: 0.7169 - val_acc: 0.8037\n",
            "Epoch 58/100\n",
            "89/89 [==============================] - 11s 125ms/step - loss: 0.2882 - acc: 0.8539 - val_loss: 0.7135 - val_acc: 0.7975\n",
            "Epoch 59/100\n",
            "89/89 [==============================] - 11s 125ms/step - loss: 0.3813 - acc: 0.8090 - val_loss: 0.5064 - val_acc: 0.8160\n",
            "Epoch 60/100\n",
            "89/89 [==============================] - 11s 125ms/step - loss: 0.3130 - acc: 0.8300 - val_loss: 0.7667 - val_acc: 0.7975\n",
            "Epoch 61/100\n",
            "89/89 [==============================] - 11s 123ms/step - loss: 0.3451 - acc: 0.8258 - val_loss: 0.8061 - val_acc: 0.8160\n",
            "Epoch 62/100\n",
            "89/89 [==============================] - 11s 125ms/step - loss: 0.3486 - acc: 0.8160 - val_loss: 0.8025 - val_acc: 0.7975\n",
            "Epoch 63/100\n",
            "89/89 [==============================] - 11s 125ms/step - loss: 0.3309 - acc: 0.8076 - val_loss: 0.5639 - val_acc: 0.8098\n",
            "Epoch 64/100\n",
            "89/89 [==============================] - 11s 123ms/step - loss: 0.3638 - acc: 0.8090 - val_loss: 0.5322 - val_acc: 0.8098\n",
            "Epoch 65/100\n",
            "89/89 [==============================] - 11s 125ms/step - loss: 0.2886 - acc: 0.8483 - val_loss: 0.8764 - val_acc: 0.8098\n",
            "Epoch 66/100\n",
            "89/89 [==============================] - 11s 124ms/step - loss: 0.2801 - acc: 0.8652 - val_loss: 0.7525 - val_acc: 0.8160\n",
            "Epoch 67/100\n",
            "89/89 [==============================] - 11s 123ms/step - loss: 0.3008 - acc: 0.8553 - val_loss: 0.7688 - val_acc: 0.7976\n",
            "Epoch 68/100\n",
            "89/89 [==============================] - 11s 127ms/step - loss: 0.3108 - acc: 0.8469 - val_loss: 0.7116 - val_acc: 0.8160\n",
            "Epoch 69/100\n",
            "89/89 [==============================] - 11s 127ms/step - loss: 0.3298 - acc: 0.8553 - val_loss: 0.7183 - val_acc: 0.7975\n",
            "Epoch 70/100\n",
            "89/89 [==============================] - 12s 130ms/step - loss: 0.3105 - acc: 0.8553 - val_loss: 1.1663 - val_acc: 0.7853\n",
            "Epoch 71/100\n",
            "89/89 [==============================] - 11s 127ms/step - loss: 0.3114 - acc: 0.8568 - val_loss: 0.6647 - val_acc: 0.8098\n",
            "Epoch 72/100\n",
            "89/89 [==============================] - 11s 128ms/step - loss: 0.2884 - acc: 0.8539 - val_loss: 0.6841 - val_acc: 0.8160\n",
            "Epoch 73/100\n",
            "89/89 [==============================] - 11s 126ms/step - loss: 0.2748 - acc: 0.8694 - val_loss: 1.0399 - val_acc: 0.7914\n",
            "Epoch 74/100\n",
            "89/89 [==============================] - 11s 127ms/step - loss: 0.2959 - acc: 0.8568 - val_loss: 0.5250 - val_acc: 0.8466\n",
            "Epoch 75/100\n",
            "89/89 [==============================] - 11s 125ms/step - loss: 0.2848 - acc: 0.8708 - val_loss: 1.0752 - val_acc: 0.7975\n",
            "Epoch 76/100\n",
            "89/89 [==============================] - 11s 126ms/step - loss: 0.2832 - acc: 0.8539 - val_loss: 0.6581 - val_acc: 0.8344\n",
            "Epoch 77/100\n",
            "89/89 [==============================] - 11s 125ms/step - loss: 0.3043 - acc: 0.8595 - val_loss: 0.7767 - val_acc: 0.8405\n",
            "Epoch 78/100\n",
            "89/89 [==============================] - 11s 124ms/step - loss: 0.2869 - acc: 0.8750 - val_loss: 0.8326 - val_acc: 0.7914\n",
            "Epoch 79/100\n",
            "89/89 [==============================] - 11s 123ms/step - loss: 0.2839 - acc: 0.8539 - val_loss: 0.8850 - val_acc: 0.8282\n",
            "Epoch 80/100\n",
            "89/89 [==============================] - 11s 128ms/step - loss: 0.2731 - acc: 0.8750 - val_loss: 0.6999 - val_acc: 0.8466\n",
            "Epoch 81/100\n",
            "89/89 [==============================] - 11s 124ms/step - loss: 0.2650 - acc: 0.8764 - val_loss: 0.4638 - val_acc: 0.8466\n",
            "Epoch 82/100\n",
            "89/89 [==============================] - 11s 124ms/step - loss: 0.2671 - acc: 0.8694 - val_loss: 0.6852 - val_acc: 0.8405\n",
            "Epoch 83/100\n",
            "89/89 [==============================] - 11s 123ms/step - loss: 0.3067 - acc: 0.8596 - val_loss: 0.7780 - val_acc: 0.8282\n",
            "Epoch 84/100\n",
            "89/89 [==============================] - 11s 125ms/step - loss: 0.2800 - acc: 0.8680 - val_loss: 0.7312 - val_acc: 0.8344\n",
            "Epoch 85/100\n",
            "89/89 [==============================] - 11s 125ms/step - loss: 0.2000 - acc: 0.9045 - val_loss: 0.8358 - val_acc: 0.8037\n",
            "Epoch 86/100\n",
            "89/89 [==============================] - 11s 124ms/step - loss: 0.2490 - acc: 0.8792 - val_loss: 0.7902 - val_acc: 0.8405\n",
            "Epoch 87/100\n",
            "89/89 [==============================] - 11s 124ms/step - loss: 0.2364 - acc: 0.8792 - val_loss: 0.9486 - val_acc: 0.8160\n",
            "Epoch 88/100\n",
            "89/89 [==============================] - 11s 125ms/step - loss: 0.2444 - acc: 0.8848 - val_loss: 0.8085 - val_acc: 0.8160\n",
            "Epoch 89/100\n",
            "89/89 [==============================] - 11s 127ms/step - loss: 0.2612 - acc: 0.8764 - val_loss: 0.9188 - val_acc: 0.8036\n",
            "Epoch 90/100\n",
            "89/89 [==============================] - 11s 128ms/step - loss: 0.2439 - acc: 0.8792 - val_loss: 1.2764 - val_acc: 0.7975\n",
            "Epoch 91/100\n",
            "89/89 [==============================] - 11s 118ms/step - loss: 0.2909 - acc: 0.8455 - val_loss: 1.0204 - val_acc: 0.7730\n",
            "Epoch 92/100\n",
            "89/89 [==============================] - 12s 131ms/step - loss: 0.2550 - acc: 0.8736 - val_loss: 0.8560 - val_acc: 0.8466\n",
            "Epoch 93/100\n",
            "89/89 [==============================] - 12s 132ms/step - loss: 0.2070 - acc: 0.9003 - val_loss: 1.0485 - val_acc: 0.7853\n",
            "Epoch 94/100\n",
            "89/89 [==============================] - 12s 133ms/step - loss: 0.2428 - acc: 0.8778 - val_loss: 0.6174 - val_acc: 0.7975\n",
            "Epoch 95/100\n",
            "89/89 [==============================] - 12s 131ms/step - loss: 0.3025 - acc: 0.8680 - val_loss: 0.8454 - val_acc: 0.8282\n",
            "Epoch 96/100\n",
            "89/89 [==============================] - 11s 128ms/step - loss: 0.2377 - acc: 0.8778 - val_loss: 1.1341 - val_acc: 0.8405\n",
            "Epoch 97/100\n",
            "89/89 [==============================] - 11s 129ms/step - loss: 0.2399 - acc: 0.8764 - val_loss: 1.1191 - val_acc: 0.7853\n",
            "Epoch 98/100\n",
            "89/89 [==============================] - 12s 133ms/step - loss: 0.2083 - acc: 0.8932 - val_loss: 0.9901 - val_acc: 0.8160\n",
            "Epoch 99/100\n",
            "89/89 [==============================] - 11s 127ms/step - loss: 0.2610 - acc: 0.8694 - val_loss: 0.9567 - val_acc: 0.8405\n",
            "Epoch 100/100\n",
            "89/89 [==============================] - 11s 126ms/step - loss: 0.2296 - acc: 0.8764 - val_loss: 0.7214 - val_acc: 0.8589\n"
          ],
          "name": "stdout"
        }
      ]
    },
    {
      "cell_type": "markdown",
      "metadata": {
        "id": "z7JIuWHGe_9u",
        "colab_type": "text"
      },
      "source": [
        "## Printing the model architecture"
      ]
    },
    {
      "cell_type": "code",
      "metadata": {
        "id": "GK4nhO_oRNKv",
        "colab_type": "code",
        "outputId": "b1fd5220-5a90-4078-9349-08c233cbd002",
        "colab": {
          "base_uri": "https://localhost:8080/",
          "height": 655
        }
      },
      "source": [
        "model.summary()"
      ],
      "execution_count": 0,
      "outputs": [
        {
          "output_type": "stream",
          "text": [
            "Model: \"sequential_1\"\n",
            "_________________________________________________________________\n",
            "Layer (type)                 Output Shape              Param #   \n",
            "=================================================================\n",
            "conv2d_1 (Conv2D)            (None, 222, 222, 32)      896       \n",
            "_________________________________________________________________\n",
            "activation_1 (Activation)    (None, 222, 222, 32)      0         \n",
            "_________________________________________________________________\n",
            "max_pooling2d_1 (MaxPooling2 (None, 111, 111, 32)      0         \n",
            "_________________________________________________________________\n",
            "conv2d_2 (Conv2D)            (None, 109, 109, 32)      9248      \n",
            "_________________________________________________________________\n",
            "activation_2 (Activation)    (None, 109, 109, 32)      0         \n",
            "_________________________________________________________________\n",
            "max_pooling2d_2 (MaxPooling2 (None, 54, 54, 32)        0         \n",
            "_________________________________________________________________\n",
            "conv2d_3 (Conv2D)            (None, 53, 53, 64)        8256      \n",
            "_________________________________________________________________\n",
            "activation_3 (Activation)    (None, 53, 53, 64)        0         \n",
            "_________________________________________________________________\n",
            "max_pooling2d_3 (MaxPooling2 (None, 26, 26, 64)        0         \n",
            "_________________________________________________________________\n",
            "flatten_1 (Flatten)          (None, 43264)             0         \n",
            "_________________________________________________________________\n",
            "dense_1 (Dense)              (None, 64)                2768960   \n",
            "_________________________________________________________________\n",
            "activation_4 (Activation)    (None, 64)                0         \n",
            "_________________________________________________________________\n",
            "dropout_1 (Dropout)          (None, 64)                0         \n",
            "_________________________________________________________________\n",
            "dense_2 (Dense)              (None, 5)                 325       \n",
            "_________________________________________________________________\n",
            "activation_5 (Activation)    (None, 5)                 0         \n",
            "=================================================================\n",
            "Total params: 2,787,685\n",
            "Trainable params: 2,787,685\n",
            "Non-trainable params: 0\n",
            "_________________________________________________________________\n"
          ],
          "name": "stdout"
        }
      ]
    },
    {
      "cell_type": "markdown",
      "metadata": {
        "id": "knayPaUTfEZW",
        "colab_type": "text"
      },
      "source": [
        "## Plotting the accuracy and loss curves"
      ]
    },
    {
      "cell_type": "code",
      "metadata": {
        "id": "IwPjJ2mWRM-B",
        "colab_type": "code",
        "outputId": "a43082e9-b6f3-490e-b85d-959989a9cb0c",
        "colab": {
          "base_uri": "https://localhost:8080/",
          "height": 573
        }
      },
      "source": [
        "import matplotlib.pyplot as plt\n",
        "\n",
        "# summarize history for accuracy\n",
        "plt.plot(history.history['acc'])\n",
        "plt.plot(history.history['val_acc'])\n",
        "plt.title('model accuracy')\n",
        "plt.ylabel('accuracy')\n",
        "plt.xlabel('epoch')\n",
        "plt.legend(['train', 'val'], loc='upper left')\n",
        "plt.savefig(\"Accuracy_curves.png\")\n",
        "plt.show()\n",
        "\n",
        "# summarize history for loss\n",
        "plt.plot(history.history['loss'])\n",
        "plt.plot(history.history['val_loss'])\n",
        "plt.title('model loss')\n",
        "plt.ylabel('loss')\n",
        "plt.xlabel('epoch')\n",
        "plt.legend(['train', 'val'], loc='upper left')\n",
        "plt.savefig(\"Loss_curves.png\")\n",
        "plt.show()"
      ],
      "execution_count": 0,
      "outputs": [
        {
          "output_type": "display_data",
          "data": {
            "image/png": "[encoded data removed]",
            "text/plain": [
              "<Figure size 432x288 with 1 Axes>"
            ]
          },
          "metadata": {
            "tags": []
          }
        },
        {
          "output_type": "display_data",
          "data": {
            "image/png": "[encoded data removed]",
            "text/plain": [
              "<Figure size 432x288 with 1 Axes>"
            ]
          },
          "metadata": {
            "tags": []
          }
        }
      ]
    },
    {
      "cell_type": "markdown",
      "metadata": {
        "id": "j9BVcyLTfM6w",
        "colab_type": "text"
      },
      "source": [
        "## Performing predictions for the testing dataset"
      ]
    },
    {
      "cell_type": "code",
      "metadata": {
        "id": "TYL7jvhFQaxi",
        "colab_type": "code",
        "outputId": "4bb98e60-19ca-4ecf-8a0c-b186956bd76c",
        "colab": {
          "base_uri": "https://localhost:8080/",
          "height": 1000
        }
      },
      "source": [
        "import numpy\n",
        "import sklearn.metrics as metrics\n",
        "img_width, img_height = 224, 224\n",
        "batch_size = 8\n",
        "epochs = 100\n",
        "test_set_dir = \"/content/drive/My Drive/NN-ProjectC/Project_C1/Test/\"\n",
        "\n",
        "num_test = len(os.listdir(test_set_dir))\n",
        "\n",
        "print (\"Number of images in test set: \", num_test)\n",
        "\n",
        "model = get_model(0.0001)\n",
        "\n",
        "model.load_weights(\"/content/model_new1.h5\")\n",
        "  \n",
        "test_datagen = ImageDataGenerator(rescale=1./255)\n",
        "\n",
        "test_generator = test_datagen.flow_from_directory(test_set_dir, target_size =(img_width, img_height), \n",
        "                                                  batch_size = batch_size, class_mode =None, shuffle = False) \n",
        "\n",
        "test_steps_per_epoch = numpy.math.ceil(test_generator.samples / test_generator.batch_size)\n",
        "\n",
        "predictions = model.predict_generator(test_generator, steps = test_steps_per_epoch)\n",
        "\n",
        "print(\"PREDICTIONS: --->\")\n",
        "print(predictions)\n",
        "\n",
        "predicted_classes = numpy.argmax(predictions, axis=1)\n",
        "\n",
        "print(\"PREDICTED CLASSES: --->\")\n",
        "print (predicted_classes)"
      ],
      "execution_count": 0,
      "outputs": [
        {
          "output_type": "stream",
          "text": [
            "1\n",
            "Number of images in test set:  1\n",
            "Found 111 images belonging to 1 classes.\n",
            "14\n",
            "111\n",
            "[[1.99931607e-01 7.98088312e-01 1.48942898e-04 1.82955933e-03\n",
            "  1.59817239e-06]\n",
            " [5.98362625e-01 2.16734841e-01 1.83229640e-01 1.66375411e-03\n",
            "  9.13485201e-06]\n",
            " [1.50071820e-02 1.93875385e-05 2.08103647e-05 9.84921396e-01\n",
            "  3.12315387e-05]\n",
            " [7.56738931e-02 9.24270213e-01 1.89938510e-05 3.67442408e-05\n",
            "  1.59914819e-07]\n",
            " [7.07451440e-03 5.93764184e-07 8.87482827e-07 9.92919147e-01\n",
            "  4.90314915e-06]\n",
            " [7.77207196e-01 4.21413369e-02 1.79807141e-01 8.20536283e-04\n",
            "  2.37755394e-05]\n",
            " [3.94198833e-06 3.67025166e-09 9.27196808e-08 1.65331960e-02\n",
            "  9.83462751e-01]\n",
            " [3.11611984e-02 3.41837527e-03 9.64695156e-01 6.74886920e-04\n",
            "  5.03644915e-05]\n",
            " [1.13299786e-10 6.80108571e-14 2.06830716e-11 3.64171022e-08\n",
            "  1.00000000e+00]\n",
            " [2.41185006e-11 7.61030219e-15 3.01345147e-12 1.17952661e-08\n",
            "  1.00000000e+00]\n",
            " [1.50764197e-01 8.48158896e-01 3.58816207e-04 7.14947470e-04\n",
            "  3.16140881e-06]\n",
            " [9.98770893e-01 1.22901169e-03 7.44529132e-08 1.71958661e-08\n",
            "  1.17187347e-12]\n",
            " [9.84517872e-01 1.54808499e-02 8.11097379e-07 4.71016847e-07\n",
            "  9.11751175e-10]\n",
            " [1.00000000e+00 9.33728572e-13 1.70710038e-14 1.18881836e-12\n",
            "  6.73386495e-17]\n",
            " [4.89277095e-01 2.04778194e-01 2.99010009e-01 6.82566827e-03\n",
            "  1.09034132e-04]\n",
            " [9.99947786e-01 5.15885768e-05 5.50725133e-07 1.69279559e-08\n",
            "  3.65176889e-10]\n",
            " [2.19951168e-09 1.43716506e-11 1.01360587e-09 6.14512328e-06\n",
            "  9.99993801e-01]\n",
            " [9.99988556e-01 1.14548957e-05 4.78863438e-09 1.07655211e-10\n",
            "  3.36857734e-12]\n",
            " [6.64209247e-01 3.33170176e-01 7.98455381e-04 1.76113413e-03\n",
            "  6.09952731e-05]\n",
            " [1.88708976e-02 1.04254636e-04 1.03184975e-04 9.80719268e-01\n",
            "  2.02343377e-04]\n",
            " [1.00000000e+00 4.26739908e-14 4.54608766e-15 1.13466615e-16\n",
            "  8.77711753e-18]\n",
            " [1.00000000e+00 1.39126144e-09 1.63164985e-11 3.47107432e-09\n",
            "  5.24243700e-14]\n",
            " [6.22584730e-06 4.99302324e-08 8.28313887e-07 2.47215591e-02\n",
            "  9.75271344e-01]\n",
            " [3.09542287e-04 1.66587722e-06 1.89262516e-06 9.99566972e-01\n",
            "  1.19895514e-04]\n",
            " [2.22132285e-10 5.95310259e-13 7.01593506e-11 1.02589922e-06\n",
            "  9.99998927e-01]\n",
            " [5.39995968e-01 1.33221328e-01 3.26161504e-01 6.18964317e-04\n",
            "  2.20581001e-06]\n",
            " [9.79016185e-01 2.09075138e-02 6.31019138e-05 1.31337383e-05\n",
            "  1.54619002e-07]\n",
            " [1.00000000e+00 6.01067598e-11 3.55360462e-13 3.57349241e-13\n",
            "  4.49631029e-16]\n",
            " [6.04645610e-02 9.39533591e-01 2.52946990e-07 1.55005728e-06\n",
            "  2.20889640e-10]\n",
            " [4.92928886e-13 7.16882100e-16 2.54279209e-13 1.19254238e-07\n",
            "  9.99999881e-01]\n",
            " [9.97764945e-01 1.57987571e-03 4.01761703e-04 2.52258207e-04\n",
            "  1.02639331e-06]\n",
            " [1.00000000e+00 1.57894331e-09 4.11051387e-10 1.28419025e-10\n",
            "  9.05030011e-13]\n",
            " [7.42674291e-01 2.27194607e-01 2.89038830e-02 1.18850986e-03\n",
            "  3.87012224e-05]\n",
            " [9.99999642e-01 3.62527203e-07 1.77049948e-08 3.95255340e-09\n",
            "  4.62195039e-11]\n",
            " [1.31881312e-01 3.16393562e-02 8.78471322e-03 8.20100367e-01\n",
            "  7.59432139e-03]\n",
            " [1.19711719e-01 8.80240917e-01 4.28249514e-05 4.50588050e-06\n",
            "  3.18890976e-08]\n",
            " [3.60687859e-02 5.53533249e-03 9.56636012e-01 1.52320834e-03\n",
            "  2.36687250e-04]\n",
            " [9.99541402e-01 4.47210565e-04 1.05132367e-05 7.79647792e-07\n",
            "  9.96212748e-08]\n",
            " [9.33107585e-02 7.17859482e-03 8.97226453e-01 2.23748316e-03\n",
            "  4.67859427e-05]\n",
            " [1.68061387e-02 1.29787857e-03 9.81658459e-01 2.21999973e-04\n",
            "  1.55428770e-05]\n",
            " [3.53285890e-12 4.19828704e-16 3.09157973e-13 1.45804602e-09\n",
            "  1.00000000e+00]\n",
            " [9.98660445e-01 1.33950217e-03 1.16228609e-08 2.39885156e-09\n",
            "  1.53190828e-11]\n",
            " [1.00000000e+00 3.45692290e-12 2.70547744e-13 8.82167450e-15\n",
            "  1.12811024e-16]\n",
            " [1.65952090e-02 5.90564974e-04 9.01088642e-04 9.76784408e-01\n",
            "  5.12869190e-03]\n",
            " [4.04971540e-02 9.59500551e-01 6.38440667e-07 1.63893606e-06\n",
            "  1.15276000e-09]\n",
            " [2.67467380e-01 7.31720865e-01 6.72380731e-04 1.38188538e-04\n",
            "  1.24961696e-06]\n",
            " [1.00000000e+00 2.52527350e-08 9.45266798e-09 4.53945298e-10\n",
            "  2.92838080e-11]\n",
            " [1.71990946e-01 2.87009887e-02 7.98464358e-01 7.74920976e-04\n",
            "  6.87947759e-05]\n",
            " [1.00000000e+00 5.81212925e-11 2.29393649e-14 5.00283324e-15\n",
            "  4.48363159e-18]\n",
            " [1.44735664e-01 8.55204523e-01 2.53708458e-05 3.43738939e-05\n",
            "  8.39332444e-08]\n",
            " [3.56616908e-07 1.57177504e-09 5.48038912e-08 4.69924795e-04\n",
            "  9.99529719e-01]\n",
            " [9.99496818e-01 4.86125675e-04 1.13600017e-05 5.35816889e-06\n",
            "  3.69531733e-07]\n",
            " [4.39841241e-01 1.08847454e-01 4.50809747e-01 4.64667042e-04\n",
            "  3.70231210e-05]\n",
            " [9.99678850e-01 2.80144479e-04 4.02821533e-05 7.30427701e-07\n",
            "  4.11310852e-09]\n",
            " [9.52081561e-01 4.79019359e-02 1.40963230e-05 2.33213359e-06\n",
            "  1.81355162e-08]\n",
            " [1.40662829e-12 1.78278074e-15 5.66137198e-13 1.12559952e-07\n",
            "  9.99999881e-01]\n",
            " [9.99990106e-01 9.63280741e-07 8.96155689e-06 7.45778550e-10\n",
            "  5.76492812e-11]\n",
            " [9.99999762e-01 2.22454176e-07 8.66524186e-09 8.31359603e-09\n",
            "  2.08031335e-12]\n",
            " [9.99997973e-01 2.06472555e-06 5.52894086e-09 5.84284487e-09\n",
            "  1.27018968e-11]\n",
            " [1.00000000e+00 1.01892324e-13 5.51284533e-15 2.26374468e-15\n",
            "  9.30743729e-19]\n",
            " [9.99137521e-01 4.58289287e-04 4.49006366e-05 3.57164594e-04\n",
            "  2.05732590e-06]\n",
            " [9.28422689e-01 7.15630874e-02 1.25387614e-05 1.63648838e-06\n",
            "  5.72596015e-08]\n",
            " [9.74309742e-01 2.55459752e-02 1.28814107e-04 1.16077399e-05\n",
            "  3.86673628e-06]\n",
            " [3.45845794e-04 2.48337096e-06 1.25998777e-05 9.50213492e-01\n",
            "  4.94256541e-02]\n",
            " [3.53102684e-02 4.30584839e-03 9.59418774e-01 9.00532177e-04\n",
            "  6.44954198e-05]\n",
            " [3.56079601e-02 4.76611499e-03 9.58340228e-01 1.13851950e-03\n",
            "  1.47150437e-04]\n",
            " [8.74442756e-01 1.25306517e-01 4.37188137e-05 2.06964876e-04\n",
            "  5.66146108e-09]\n",
            " [7.38848627e-01 2.50934571e-01 1.01781273e-02 3.85918174e-05\n",
            "  4.53014053e-08]\n",
            " [1.00000000e+00 4.69538897e-08 9.98998928e-09 1.04640279e-08\n",
            "  5.59234646e-12]\n",
            " [9.87058699e-01 1.23045081e-02 6.31550851e-04 5.00313990e-06\n",
            "  2.08138957e-07]\n",
            " [1.00000000e+00 2.65310831e-13 5.29991226e-15 3.56010542e-16\n",
            "  2.50668787e-19]\n",
            " [1.17763117e-01 1.43798236e-02 8.67491841e-01 3.42061365e-04\n",
            "  2.31155445e-05]\n",
            " [2.52248961e-02 9.74774361e-01 6.97577391e-08 6.09067456e-07\n",
            "  4.59330941e-11]\n",
            " [2.65048951e-01 1.83757380e-04 1.86080622e-04 7.34174550e-01\n",
            "  4.06713487e-04]\n",
            " [9.99998689e-01 1.17062496e-06 2.07044581e-09 1.18440646e-07\n",
            "  3.32120963e-12]\n",
            " [4.21859771e-02 2.90949200e-03 9.54819977e-01 7.99962290e-05\n",
            "  4.53234952e-06]\n",
            " [1.00000000e+00 8.59754756e-09 2.63624428e-10 2.00144859e-10\n",
            "  8.35070064e-14]\n",
            " [9.99930501e-01 6.76806812e-05 6.71542978e-07 1.06866071e-06\n",
            "  6.72320910e-09]\n",
            " [1.00000000e+00 8.47856674e-10 3.51590042e-11 4.34834752e-10\n",
            "  3.99901629e-13]\n",
            " [9.99999762e-01 1.84854883e-07 1.88227475e-10 1.55215274e-09\n",
            "  6.29183527e-14]\n",
            " [9.01076175e-12 4.22606726e-14 7.01313313e-12 1.44535375e-06\n",
            "  9.99998569e-01]\n",
            " [9.99999285e-01 7.08672871e-07 3.76900906e-11 1.75581452e-10\n",
            "  6.31105911e-15]\n",
            " [1.00000000e+00 2.42251641e-09 2.27276982e-11 7.63819494e-11\n",
            "  3.60749909e-14]\n",
            " [2.08382457e-02 1.86566007e-03 9.76909339e-01 3.52408999e-04\n",
            "  3.43843676e-05]\n",
            " [5.07226986e-12 8.77073447e-16 5.56053033e-13 2.88935276e-09\n",
            "  1.00000000e+00]\n",
            " [1.00000000e+00 1.11903269e-08 2.02148298e-10 5.24931904e-11\n",
            "  1.16427177e-15]\n",
            " [2.57209111e-02 2.17628502e-03 9.71720099e-01 3.56171979e-04\n",
            "  2.65160907e-05]\n",
            " [9.81455266e-01 1.85446274e-02 4.33059704e-08 1.92792839e-08\n",
            "  4.24796960e-12]\n",
            " [9.54391539e-01 4.54922989e-02 1.03860948e-04 1.17313621e-05\n",
            "  5.20954757e-07]\n",
            " [3.16643447e-01 1.50410170e-02 6.40274942e-01 2.72991732e-02\n",
            "  7.41456519e-04]\n",
            " [4.67110127e-02 1.40807196e-03 3.10027669e-03 9.44314480e-01\n",
            "  4.46618441e-03]\n",
            " [9.98906493e-01 1.08997535e-03 1.77141180e-06 1.78022856e-06\n",
            "  7.03462044e-09]\n",
            " [4.08428550e-01 2.39833876e-01 3.39200079e-01 1.11038983e-02\n",
            "  1.43359671e-03]\n",
            " [4.47931141e-01 4.74925965e-01 7.43096471e-02 2.01264187e-03\n",
            "  8.20635178e-04]\n",
            " [2.50998586e-01 4.62707169e-02 7.02417672e-01 2.93304503e-04\n",
            "  1.97917852e-05]\n",
            " [6.38171956e-02 9.36160982e-01 7.44606132e-06 1.44140295e-05\n",
            "  4.17104573e-08]\n",
            " [9.99882579e-01 1.15067109e-04 1.19860999e-06 1.15843682e-06\n",
            "  7.61354002e-09]\n",
            " [1.00000000e+00 2.07977038e-12 2.51826988e-12 3.78344715e-14\n",
            "  2.02840171e-16]\n",
            " [9.99990821e-01 9.03963064e-06 4.81831393e-08 1.76506223e-08\n",
            "  9.23841670e-10]\n",
            " [9.46006238e-01 5.39910980e-02 3.77299187e-07 2.36534083e-06\n",
            "  2.07405135e-10]\n",
            " [9.99998927e-01 1.03876062e-06 2.21155405e-09 1.00440371e-10\n",
            "  6.20522175e-14]\n",
            " [1.27220117e-02 1.26304134e-04 2.03804200e-04 9.85986888e-01\n",
            "  9.61043930e-04]\n",
            " [3.33962441e-11 1.01508971e-14 4.22035844e-12 1.02060822e-08\n",
            "  1.00000000e+00]\n",
            " [9.99979019e-01 2.09939044e-05 6.03362915e-10 7.97069688e-10\n",
            "  1.76802204e-13]\n",
            " [9.38163847e-02 9.06134963e-01 3.69054142e-05 1.14212990e-05\n",
            "  3.07407561e-07]\n",
            " [9.99999166e-01 8.24398683e-07 4.46231746e-10 1.86969648e-10\n",
            "  6.58625975e-12]\n",
            " [4.83411968e-01 3.10668722e-04 2.96691619e-03 5.13286591e-01\n",
            "  2.38373268e-05]\n",
            " [1.00000000e+00 2.73226608e-10 1.51182383e-11 9.96108103e-14\n",
            "  2.92257045e-16]\n",
            " [2.35915959e-01 7.64083564e-01 3.14918822e-07 1.09821528e-07\n",
            "  3.97660134e-11]\n",
            " [1.00000000e+00 1.44815726e-09 3.85545415e-12 5.46197636e-12\n",
            "  1.24914252e-16]\n",
            " [1.00000000e+00 5.47418999e-08 1.74228392e-11 1.10815194e-11\n",
            "  1.25104109e-15]]\n",
            "[1 0 3 1 3 0 4 2 4 4 1 0 0 0 0 0 4 0 0 3 0 0 4 3 4 0 0 0 1 4 0 0 0 0 3 1 2\n",
            " 0 2 2 4 0 0 3 1 1 0 2 0 1 4 0 2 0 0 4 0 0 0 0 0 0 0 3 2 2 0 0 0 0 0 2 1 3\n",
            " 0 2 0 0 0 0 4 0 0 2 4 0 2 0 0 2 3 0 0 1 2 1 0 0 0 0 0 3 4 0 1 0 3 0 1 0 0]\n"
          ],
          "name": "stdout"
        }
      ]
    },
    {
      "cell_type": "markdown",
      "metadata": {
        "id": "GUBM-oO5fsAU",
        "colab_type": "text"
      },
      "source": [
        "## Converting the labels to one hot encoding"
      ]
    },
    {
      "cell_type": "code",
      "metadata": {
        "id": "ZaCQqB0cc54t",
        "colab_type": "code",
        "colab": {}
      },
      "source": [
        "from tensorflow.keras.utils import to_categorical\n",
        "y_pred = to_categorical(predicted_classes, dtype = 'int32')"
      ],
      "execution_count": 0,
      "outputs": []
    },
    {
      "cell_type": "markdown",
      "metadata": {
        "id": "bsknkdzDfypK",
        "colab_type": "text"
      },
      "source": [
        "## Writing the output to the file"
      ]
    },
    {
      "cell_type": "code",
      "metadata": {
        "id": "7zi-Mjkdc5zn",
        "colab_type": "code",
        "colab": {}
      },
      "source": [
        "import csv\n",
        "\n",
        "with open('labels.csv', 'wt') as output:\n",
        "    writer = csv.writer(output)\n",
        "    writer.writerows(y_pred)    \n",
        "output.close()"
      ],
      "execution_count": 0,
      "outputs": []
    },
    {
      "cell_type": "markdown",
      "metadata": {
        "id": "oLYzbklQf7tk",
        "colab_type": "text"
      },
      "source": [
        "## Saving the history"
      ]
    },
    {
      "cell_type": "code",
      "metadata": {
        "id": "R3kSLpKWXBqA",
        "colab_type": "code",
        "colab": {}
      },
      "source": [
        "import pickle\n",
        "f = open('history_final.pckl', 'wb')\n",
        "pickle.dump(history.history, f)\n",
        "f.close()"
      ],
      "execution_count": 0,
      "outputs": []
    },
    {
      "cell_type": "code",
      "metadata": {
        "id": "k4EltFnManHI",
        "colab_type": "code",
        "colab": {}
      },
      "source": [
        ""
      ],
      "execution_count": 0,
      "outputs": []
    }
  ]
}